{
  "nbformat": 4,
  "nbformat_minor": 0,
  "metadata": {
    "colab": {
      "provenance": [],
      "authorship_tag": "ABX9TyMVfjcmcuObbKjG4zZhR1Tz",
      "include_colab_link": true
    },
    "kernelspec": {
      "name": "python3",
      "display_name": "Python 3"
    },
    "language_info": {
      "name": "python"
    }
  },
  "cells": [
    {
      "cell_type": "markdown",
      "metadata": {
        "id": "view-in-github",
        "colab_type": "text"
      },
      "source": [
        "<a href=\"https://colab.research.google.com/github/yash5891/Deep-Learning/blob/main/cifar100.ipynb\" target=\"_parent\"><img src=\"https://colab.research.google.com/assets/colab-badge.svg\" alt=\"Open In Colab\"/></a>"
      ]
    },
    {
      "cell_type": "code",
      "execution_count": 4,
      "metadata": {
        "id": "0ie2Ona3c7Md"
      },
      "outputs": [],
      "source": [
        "import os\n",
        "import torch\n",
        "import torchvision\n",
        "import tarfile\n",
        "from torchvision.datasets.utils import download_url\n",
        "from torch.utils.data import random_split"
      ]
    },
    {
      "cell_type": "code",
      "source": [
        "dataset_url = \"https://s3.amazonaws.com/fast-ai-imageclas/cifar100.tgz\"\n",
        "download_url(dataset_url, '.')"
      ],
      "metadata": {
        "colab": {
          "base_uri": "https://localhost:8080/"
        },
        "id": "qUBPQ25aeXFx",
        "outputId": "a67d5ce6-8ede-472c-a776-7bef2072659f"
      },
      "execution_count": 5,
      "outputs": [
        {
          "output_type": "stream",
          "name": "stdout",
          "text": [
            "Downloading https://s3.amazonaws.com/fast-ai-imageclas/cifar100.tgz to ./cifar100.tgz\n"
          ]
        },
        {
          "output_type": "stream",
          "name": "stderr",
          "text": [
            "100%|██████████| 169168619/169168619 [00:02<00:00, 61179680.05it/s]\n"
          ]
        }
      ]
    },
    {
      "cell_type": "code",
      "source": [
        "with tarfile.open('./cifar100.tgz', 'r:gz') as tar:\n",
        "    tar.extractall(path='./data')"
      ],
      "metadata": {
        "id": "L7m4Dvvde0ze"
      },
      "execution_count": 6,
      "outputs": []
    },
    {
      "cell_type": "code",
      "source": [
        "data_dir = './data/cifar100'\n",
        "\n",
        "print(os.listdir(data_dir))\n",
        "classes = os.listdir(data_dir + \"/train\")\n",
        "print(classes)"
      ],
      "metadata": {
        "colab": {
          "base_uri": "https://localhost:8080/"
        },
        "id": "n5M0wYctfjQ6",
        "outputId": "60b40792-ba48-42af-d3c9-ba905f243eca"
      },
      "execution_count": 7,
      "outputs": [
        {
          "output_type": "stream",
          "name": "stdout",
          "text": [
            "['test', 'train']\n",
            "['trees', 'vehicles_1', 'fish', 'large_man-made_outdoor_things', 'flowers', 'fruit_and_vegetables', 'large_omnivores_and_herbivores', 'household_electrical_devices', 'insects', 'large_carnivores', 'household_furniture', 'small_mammals', 'people', 'large_natural_outdoor_scenes', 'reptiles', 'vehicles_2', 'aquatic_mammals', 'non-insect_invertebrates', 'medium_mammals', 'food_containers']\n"
          ]
        }
      ]
    },
    {
      "cell_type": "code",
      "source": [
        "fish_files = os.listdir(data_dir + \"/train/fish\")\n",
        "print('No. of training examples for airplanes:', len(fish_files))\n",
        "print(fish_files[:5])"
      ],
      "metadata": {
        "colab": {
          "base_uri": "https://localhost:8080/"
        },
        "id": "-NAMcNzphu5x",
        "outputId": "e6db6836-ae78-4d72-c56c-a765f57b0dcb"
      },
      "execution_count": 8,
      "outputs": [
        {
          "output_type": "stream",
          "name": "stdout",
          "text": [
            "No. of training examples for airplanes: 5\n",
            "['shark', 'ray', 'aquarium_fish', 'flatfish', 'trout']\n"
          ]
        }
      ]
    },
    {
      "cell_type": "code",
      "source": [
        "flowers = os.listdir(data_dir + \"/test/flowers\")\n",
        "print(\"No. of test examples for ship:\", len(flowers))\n",
        "print(flowers[:5])"
      ],
      "metadata": {
        "colab": {
          "base_uri": "https://localhost:8080/"
        },
        "id": "Q0yUqfweiEGs",
        "outputId": "9c920c9c-3973-4dfa-9211-b401fe34b9c3"
      },
      "execution_count": 9,
      "outputs": [
        {
          "output_type": "stream",
          "name": "stdout",
          "text": [
            "No. of test examples for ship: 5\n",
            "['sunflower', 'poppy', 'orchid', 'tulip', 'rose']\n"
          ]
        }
      ]
    },
    {
      "cell_type": "code",
      "source": [
        "from torchvision.datasets import ImageFolder\n",
        "from torchvision.transforms import ToTensor"
      ],
      "metadata": {
        "id": "xo8MCA4niW91"
      },
      "execution_count": 10,
      "outputs": []
    },
    {
      "cell_type": "code",
      "source": [
        "dataset = ImageFolder(data_dir+'/train', transform=ToTensor())"
      ],
      "metadata": {
        "id": "IHPFeaPQiajB"
      },
      "execution_count": 11,
      "outputs": []
    },
    {
      "cell_type": "code",
      "source": [
        "img, label = dataset[0]\n",
        "print(img.shape, label)\n",
        "img"
      ],
      "metadata": {
        "colab": {
          "base_uri": "https://localhost:8080/"
        },
        "id": "E9QrEIY9ip9v",
        "outputId": "bbb3ffac-2cf0-4b6f-a8c2-3a3e927fb8c1"
      },
      "execution_count": 12,
      "outputs": [
        {
          "output_type": "stream",
          "name": "stdout",
          "text": [
            "torch.Size([3, 32, 32]) 0\n"
          ]
        },
        {
          "output_type": "execute_result",
          "data": {
            "text/plain": [
              "tensor([[[0.6196, 0.6431, 0.6392,  ..., 0.5843, 0.5451, 0.4941],\n",
              "         [0.6039, 0.6353, 0.6353,  ..., 0.5843, 0.5490, 0.4980],\n",
              "         [0.6078, 0.6431, 0.6431,  ..., 0.5804, 0.5490, 0.5020],\n",
              "         ...,\n",
              "         [0.7059, 0.7216, 0.6863,  ..., 0.8549, 0.8471, 0.7961],\n",
              "         [0.8902, 0.8667, 0.7804,  ..., 0.9569, 0.9647, 0.9451],\n",
              "         [0.9804, 0.9647, 0.9098,  ..., 0.9843, 0.9843, 0.9451]],\n",
              "\n",
              "        [[0.6314, 0.6745, 0.6863,  ..., 0.5804, 0.5490, 0.5137],\n",
              "         [0.6275, 0.6824, 0.6902,  ..., 0.5922, 0.5647, 0.5294],\n",
              "         [0.6353, 0.6902, 0.6980,  ..., 0.5961, 0.5765, 0.5333],\n",
              "         ...,\n",
              "         [0.7608, 0.7804, 0.7490,  ..., 0.8745, 0.8706, 0.8196],\n",
              "         [0.9216, 0.9059, 0.8275,  ..., 0.9725, 0.9765, 0.9647],\n",
              "         [0.9922, 0.9804, 0.9333,  ..., 0.9922, 0.9922, 0.9608]],\n",
              "\n",
              "        [[0.3922, 0.3843, 0.3765,  ..., 0.3725, 0.3451, 0.3255],\n",
              "         [0.3843, 0.3843, 0.3765,  ..., 0.3725, 0.3529, 0.3294],\n",
              "         [0.3765, 0.3843, 0.3765,  ..., 0.3765, 0.3686, 0.3412],\n",
              "         ...,\n",
              "         [0.8275, 0.8627, 0.8314,  ..., 0.8980, 0.8902, 0.8353],\n",
              "         [0.9255, 0.9294, 0.8863,  ..., 0.9569, 0.9608, 0.9569],\n",
              "         [0.9608, 0.9569, 0.9333,  ..., 0.9765, 0.9765, 0.9608]]])"
            ]
          },
          "metadata": {},
          "execution_count": 12
        }
      ]
    },
    {
      "cell_type": "code",
      "source": [
        "print(dataset.classes)"
      ],
      "metadata": {
        "id": "h6K7zACCitYn",
        "outputId": "2d01ac9c-cddd-4fe7-a685-41cea3d3d6dc",
        "colab": {
          "base_uri": "https://localhost:8080/"
        }
      },
      "execution_count": 13,
      "outputs": [
        {
          "output_type": "stream",
          "name": "stdout",
          "text": [
            "['aquatic_mammals', 'fish', 'flowers', 'food_containers', 'fruit_and_vegetables', 'household_electrical_devices', 'household_furniture', 'insects', 'large_carnivores', 'large_man-made_outdoor_things', 'large_natural_outdoor_scenes', 'large_omnivores_and_herbivores', 'medium_mammals', 'non-insect_invertebrates', 'people', 'reptiles', 'small_mammals', 'trees', 'vehicles_1', 'vehicles_2']\n"
          ]
        }
      ]
    },
    {
      "cell_type": "code",
      "source": [
        "import matplotlib\n",
        "import matplotlib.pyplot as plt\n",
        "%matplotlib inline\n",
        "\n",
        "matplotlib.rcParams['figure.facecolor'] = '#ffffff'"
      ],
      "metadata": {
        "id": "GbGyDyV8ixZy"
      },
      "execution_count": 14,
      "outputs": []
    },
    {
      "cell_type": "code",
      "source": [
        "def show_example(img, label):\n",
        "    print('Label: ', dataset.classes[label], \"(\"+str(label)+\")\")\n",
        "    plt.imshow(img.permute(1, 2, 0))\n",
        ""
      ],
      "metadata": {
        "id": "OSzTTfeUIocK"
      },
      "execution_count": 15,
      "outputs": []
    },
    {
      "cell_type": "code",
      "source": [
        "show_example(*dataset[0])"
      ],
      "metadata": {
        "colab": {
          "base_uri": "https://localhost:8080/",
          "height": 448
        },
        "id": "5NnJqJWwIsR7",
        "outputId": "bcb7996c-897d-421c-d621-ffedbe11fa42"
      },
      "execution_count": 16,
      "outputs": [
        {
          "output_type": "stream",
          "name": "stdout",
          "text": [
            "Label:  aquatic_mammals (0)\n"
          ]
        },
        {
          "output_type": "display_data",
          "data": {
            "text/plain": [
              "<Figure size 640x480 with 1 Axes>"
            ],
            "image/png": "[encoded data removed]"
          },
          "metadata": {}
        }
      ]
    },
    {
      "cell_type": "code",
      "source": [
        "show_example(*dataset[1099])"
      ],
      "metadata": {
        "colab": {
          "base_uri": "https://localhost:8080/",
          "height": 448
        },
        "id": "EEHO_X8HJKiQ",
        "outputId": "79dc23ea-f6d6-4520-f964-b9c40af76c12"
      },
      "execution_count": 17,
      "outputs": [
        {
          "output_type": "stream",
          "name": "stdout",
          "text": [
            "Label:  aquatic_mammals (0)\n"
          ]
        },
        {
          "output_type": "display_data",
          "data": {
            "text/plain": [
              "<Figure size 640x480 with 1 Axes>"
            ],
            "image/png": "[encoded data removed]"
          },
          "metadata": {}
        }
      ]
    },
    {
      "cell_type": "code",
      "source": [
        "random_seed = 42\n",
        "torch.manual_seed(random_seed);"
      ],
      "metadata": {
        "id": "ude4TStSJ_nO"
      },
      "execution_count": 18,
      "outputs": []
    },
    {
      "cell_type": "code",
      "source": [
        "len(dataset)"
      ],
      "metadata": {
        "colab": {
          "base_uri": "https://localhost:8080/"
        },
        "id": "WRqRhhCfL0v7",
        "outputId": "88d2a982-02a4-4b14-ab80-272098a884cc"
      },
      "execution_count": 20,
      "outputs": [
        {
          "output_type": "execute_result",
          "data": {
            "text/plain": [
              "50000"
            ]
          },
          "metadata": {},
          "execution_count": 20
        }
      ]
    },
    {
      "cell_type": "code",
      "source": [
        "val_size = 5000\n",
        "train_size = len(dataset) - val_size\n",
        "\n",
        "train_ds, val_ds = random_split(dataset, [train_size, val_size])\n",
        "len(train_ds), len(val_ds)"
      ],
      "metadata": {
        "colab": {
          "base_uri": "https://localhost:8080/"
        },
        "id": "WsFI3TELMLqo",
        "outputId": "a4cbc7d4-a0b0-40fe-be40-bfc71e3c4240"
      },
      "execution_count": 21,
      "outputs": [
        {
          "output_type": "execute_result",
          "data": {
            "text/plain": [
              "(45000, 5000)"
            ]
          },
          "metadata": {},
          "execution_count": 21
        }
      ]
    },
    {
      "cell_type": "code",
      "source": [
        "from torch.utils.data.dataloader import DataLoader\n",
        "\n",
        "batch_size=128"
      ],
      "metadata": {
        "id": "nxCLEIxbMOaC"
      },
      "execution_count": 22,
      "outputs": []
    },
    {
      "cell_type": "code",
      "source": [
        "train_dl = DataLoader(train_ds, batch_size, shuffle=True, num_workers=4, pin_memory=True)\n",
        "val_dl = DataLoader(val_ds, batch_size*2, num_workers=4, pin_memory=True)"
      ],
      "metadata": {
        "colab": {
          "base_uri": "https://localhost:8080/"
        },
        "id": "AW9Zcu97NZc3",
        "outputId": "87895942-7bbc-4796-b779-015ae936f610"
      },
      "execution_count": 23,
      "outputs": [
        {
          "output_type": "stream",
          "name": "stderr",
          "text": [
            "/usr/local/lib/python3.10/dist-packages/torch/utils/data/dataloader.py:558: UserWarning: This DataLoader will create 4 worker processes in total. Our suggested max number of worker in current system is 2, which is smaller than what this DataLoader is going to create. Please be aware that excessive worker creation might get DataLoader running slow or even freeze, lower the worker number to avoid potential slowness/freeze if necessary.\n",
            "  warnings.warn(_create_warning_msg(\n"
          ]
        }
      ]
    },
    {
      "cell_type": "code",
      "source": [
        ""
      ],
      "metadata": {
        "id": "0J626NDXNqkB"
      },
      "execution_count": null,
      "outputs": []
    }
  ]
}